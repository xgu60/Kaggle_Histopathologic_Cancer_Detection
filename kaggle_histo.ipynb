{
 "cells": [
  {
   "cell_type": "code",
   "execution_count": 1,
   "metadata": {},
   "outputs": [],
   "source": [
    "import numpy as np\n",
    "import pandas as pd\n",
    "import matplotlib.pyplot as plt\n",
    "\n",
    "from PIL import Image\n",
    "import os, os.path\n",
    "\n",
    "%matplotlib inline"
   ]
  },
  {
   "cell_type": "markdown",
   "metadata": {},
   "source": [
    "### Part 1: Visulize data"
   ]
  },
  {
   "cell_type": "code",
   "execution_count": 2,
   "metadata": {},
   "outputs": [],
   "source": [
    "# #load images from sample folder\n",
    "# imgs = []\n",
    "# filenames = []\n",
    "# path = \"data/sample\"\n",
    "# valid_images = [\".tif\", \".jpg\",\".gif\",\".png\",\".tga\"]\n",
    "# for f in os.listdir(path):\n",
    "#     fn = os.path.splitext(f)[0]\n",
    "#     ext = os.path.splitext(f)[1]\n",
    "#     if ext.lower() not in valid_images:\n",
    "#         continue\n",
    "#     imgs.append(Image.open(os.path.join(path,f)))\n",
    "#     filenames.append(fn)\n",
    "# print(\"length of imgs: {}\".format(len(imgs)))\n",
    "# #print(filenames)\n",
    "\n",
    "# #get labels for these images\n",
    "# labels = pd.read_csv(\"data/train_labels.csv\")\n",
    "# filelabels = []\n",
    "# for fn in filenames:\n",
    "#     filelabels.append(labels.loc[labels.id == fn, 'label'].values[0])\n",
    "# #print(filelabels)\n",
    "\n",
    "\n",
    "# #visulize loaded images\n",
    "# fig, axes = plt.subplots(4, 4, figsize=(10, 12))\n",
    "# for image, label, ax in zip(imgs, filelabels, axes.ravel()):\n",
    "#     ax.imshow(image)\n",
    "#     ax.set_title(\"label: {}\".format(label))"
   ]
  },
  {
   "cell_type": "markdown",
   "metadata": {},
   "source": [
    "### Part 2: train and test split, balance train data"
   ]
  },
  {
   "cell_type": "code",
   "execution_count": 36,
   "metadata": {},
   "outputs": [
    {
     "name": "stdout",
     "output_type": "stream",
     "text": [
      "data shape: (220025, 2)\n",
      "positive sample number: 89117\n",
      "samples in train: 198571\n",
      "samples in validation: 10452\n",
      "samples in test: 11002\n"
     ]
    }
   ],
   "source": [
    "# #train and test split\n",
    "# from sklearn.model_selection import train_test_split\n",
    "# data = pd.read_csv(\"data/train_labels.csv\")\n",
    "# print(\"data shape: {}\".format(data.shape))\n",
    "# print(\"positive sample number: {}\".format(sum(data.label)))\n",
    "# train_x, test_x, train_y, test_y = train_test_split(data.loc[:, 'id'], data.loc[:, 'label'], \n",
    "#                                                     test_size=0.05, random_state=16)\n",
    "# train_x, valid_x, train_y, valid_y = train_test_split(train_x, train_y, \n",
    "#                                                       test_size=0.05, random_state=16)\n",
    "# train_data = pd.DataFrame({'id': train_x, 'label': train_y})\n",
    "# valid_data = pd.DataFrame({'id': valid_x, 'label': valid_y})\n",
    "# test_data = pd.DataFrame({'id': test_x, 'label': test_y})\n",
    "# print(\"samples in train: {}\".format(train_data.shape[0]))\n",
    "# print(\"samples in validation: {}\".format(valid_data.shape[0]))\n",
    "# print(\"samples in test: {}\".format(test_data.shape[0]))\n",
    "# train_data.to_csv(\"data/train.csv\")\n",
    "# valid_data.to_csv(\"data/valid.csv\")\n",
    "# test_data.to_csv(\"data/test.csv\")"
   ]
  },
  {
   "cell_type": "code",
   "execution_count": 4,
   "metadata": {},
   "outputs": [],
   "source": [
    "# train = pd.read_csv(\"data/test.csv\")\n",
    "# train.loc[:, 'label'].value_counts()"
   ]
  },
  {
   "cell_type": "markdown",
   "metadata": {},
   "source": [
    "### Part 3: load images as Pytorch Dataset"
   ]
  },
  {
   "cell_type": "code",
   "execution_count": 5,
   "metadata": {},
   "outputs": [],
   "source": [
    "from skimage import io, transform\n",
    "import torch\n",
    "import torch.nn as nn\n",
    "import torch.nn.functional as F\n",
    "import torch.optim as optim\n",
    "from torch.utils.data import Dataset, DataLoader\n",
    "from torchvision import transforms, utils, models\n",
    "from tqdm import tqdm_notebook as tqdm\n",
    "from sklearn.metrics import roc_curve, auc"
   ]
  },
  {
   "cell_type": "code",
   "execution_count": 6,
   "metadata": {},
   "outputs": [],
   "source": [
    "class HistoDataset(Dataset):\n",
    "    \"\"\"kaggle histo dataset.\"\"\"\n",
    "\n",
    "    def __init__(self, csv_file, root_dir):\n",
    "        \"\"\"\n",
    "        Args:\n",
    "            csv_file (string): Path to the csv file with id and label.\n",
    "            root_dir (string): Directory with all the images.\n",
    "            transform (callable, optional): Optional transform to be applied\n",
    "                on a sample.\n",
    "        \"\"\"\n",
    "        self.id = pd.read_csv(csv_file)\n",
    "        self.root_dir = root_dir\n",
    "        \n",
    "\n",
    "    def __len__(self):\n",
    "        return len(self.id)\n",
    "\n",
    "    def __getitem__(self, idx):\n",
    "        img_name = os.path.join(self.root_dir, self.id.iloc[idx, 1]+'.tif')\n",
    "        image = io.imread(img_name)\n",
    "        label = self.id.iloc[idx, 2]         \n",
    "        \n",
    "        return image, label\n",
    "    "
   ]
  },
  {
   "cell_type": "code",
   "execution_count": 41,
   "metadata": {},
   "outputs": [],
   "source": [
    "def train_model(model, model_param, epoch_num, batch_size):\n",
    "    #generate dataset\n",
    "    train_dataset = HistoDataset(\"data/train.csv\", \"data/train\")\n",
    "    val_dataset = HistoDataset(\"data/valid.csv\", \"data/train\")\n",
    "    #load data\n",
    "    train_data = DataLoader(dataset=train_dataset, batch_size=batch_size, \n",
    "                            shuffle=True, num_workers=2)\n",
    "    val_data = DataLoader(dataset=val_dataset, batch_size=batch_size, \n",
    "                            shuffle=True, num_workers=2)\n",
    "    \n",
    "    #setup device\n",
    "    device = torch.device(\"cuda\" if torch.cuda.is_available() else \"cpu\")  \n",
    "    #link mode to device\n",
    "    model.to(device)\n",
    "    #define loss function\n",
    "    criterion = nn.BCELoss()\n",
    "    #define optimizer\n",
    "    optimizer = optim.SGD(model_param, lr=0.001, momentum=0.9)\n",
    "\n",
    "    \n",
    "    for epoch in range(epoch_num):\n",
    "        model.train()\n",
    "        with torch.set_grad_enabled(True):\n",
    "            for i, (samples, labels) in tqdm(enumerate(train_data)):            \n",
    "                inputs, labels = samples.view((samples.size(0),3, 96, 96)).float().to(device), labels.view(labels.size(0), 1).float().to(device)\n",
    "                #print(labels)\n",
    "                y_pred = model.forward(inputs)\n",
    "                #print(y_pred)\n",
    "                loss = criterion(y_pred, labels)\n",
    "\n",
    "                optimizer.zero_grad()\n",
    "                loss.backward()\n",
    "                optimizer.step()\n",
    "\n",
    "        #evaluate the performance on validation set        \n",
    "        pred_values = []\n",
    "        true_values = []\n",
    "        #set model in eval mode and shut down grad to save memory\n",
    "        model.eval()\n",
    "        with torch.no_grad():\n",
    "            for j, (samples, labels) in enumerate(val_data):\n",
    "                inputs = samples.view((samples.size(0),3, 96, 96)).float().to(device)\n",
    "                pred_values += [x[0] for x in model.forward(inputs).cpu().data.numpy()]\n",
    "                true_values += [x for x in labels.numpy()]\n",
    "        #print(pred_values)\n",
    "        #print(true_values)\n",
    "        fpr, tpr, thres = roc_curve(np.array(true_values), np.array(pred_values))\n",
    "        auc_score = auc(fpr, tpr)\n",
    "        print(\"epoch: {}\".format(epoch))\n",
    "        print(\"auc: {}\".format(auc_score))\n",
    "        \n",
    "        #save the model\n",
    "        torch.save(model, \"model/cnn_epoch_\" + str(epoch + 1) + \".pkl\")\n",
    "\n",
    "\n"
   ]
  },
  {
   "cell_type": "code",
   "execution_count": 8,
   "metadata": {},
   "outputs": [],
   "source": [
    "class CNN(nn.Module):\n",
    "\n",
    "    def __init__(self):\n",
    "        super(CNN, self).__init__()\n",
    "        self.conv1 = nn.Sequential(\n",
    "            nn.Conv2d(\n",
    "                in_channels=3,\n",
    "                out_channels=64,\n",
    "                kernel_size=3,\n",
    "                stride=1,\n",
    "                padding=1),\n",
    "            nn.BatchNorm2d(64),\n",
    "            nn.ReLU(inplace=True),\n",
    "            nn.MaxPool2d(kernel_size=4, stride=4)\n",
    "            )\n",
    "\n",
    "        self.conv2 = nn.Sequential(\n",
    "            nn.Conv2d(\n",
    "                in_channels=64,\n",
    "                out_channels=128,\n",
    "                kernel_size=3,\n",
    "                stride=1,\n",
    "                padding=1),\n",
    "            nn.BatchNorm2d(128),\n",
    "            nn.ReLU(inplace=True),\n",
    "            nn.MaxPool2d(kernel_size=4, stride=4)\n",
    "            )\n",
    "\n",
    "        self.conv3 = nn.Sequential(\n",
    "            nn.Conv2d(\n",
    "                in_channels=128,\n",
    "                out_channels=256,\n",
    "                kernel_size=3,\n",
    "                stride=1,\n",
    "                padding=1),\n",
    "            nn.BatchNorm2d(256),\n",
    "            nn.ReLU(inplace=True),\n",
    "            nn.MaxPool2d(kernel_size=2, stride=2)\n",
    "            )\n",
    "\n",
    "        self.fc = nn.Sequential(\n",
    "            nn.Linear(3*3*256, 1024),\n",
    "            nn.BatchNorm1d(1024),\n",
    "            nn.ReLU(inplace=True),\n",
    "            nn.Dropout(p=0.5),\n",
    "            nn.Linear(1024, 1024),\n",
    "            nn.BatchNorm1d(1024),\n",
    "            nn.ReLU(inplace=True),\n",
    "            nn.Dropout(p=0.5),\n",
    "            nn.Linear(1024, 1),\n",
    "            nn.Sigmoid()\n",
    "            )\n",
    "\n",
    "    \n",
    "    def forward(self, x):\n",
    "        x = self.conv1(x)\n",
    "        x = self.conv2(x)\n",
    "        x = self.conv3(x)\n",
    "        x = x.view(x.size(0), -1)\n",
    "        output = self.fc(x)\n",
    "        return output\n",
    "\n"
   ]
  },
  {
   "cell_type": "code",
   "execution_count": 42,
   "metadata": {
    "scrolled": true
   },
   "outputs": [
    {
     "data": {
      "application/vnd.jupyter.widget-view+json": {
       "model_id": "de895cff564545cba960111a6a1f8968",
       "version_major": 2,
       "version_minor": 0
      },
      "text/plain": [
       "HBox(children=(IntProgress(value=1, bar_style='info', max=1), HTML(value='')))"
      ]
     },
     "metadata": {},
     "output_type": "display_data"
    },
    {
     "name": "stdout",
     "output_type": "stream",
     "text": [
      "\n",
      "epoch: \n",
      "auc: 0.924113682175554\n"
     ]
    },
    {
     "data": {
      "application/vnd.jupyter.widget-view+json": {
       "model_id": "a98ad1b77b5e4a06a49dadaeb5ef06ef",
       "version_major": 2,
       "version_minor": 0
      },
      "text/plain": [
       "HBox(children=(IntProgress(value=1, bar_style='info', max=1), HTML(value='')))"
      ]
     },
     "metadata": {},
     "output_type": "display_data"
    },
    {
     "name": "stdout",
     "output_type": "stream",
     "text": [
      "\n",
      "epoch: \n",
      "auc: 0.8895023863703181\n"
     ]
    },
    {
     "data": {
      "application/vnd.jupyter.widget-view+json": {
       "model_id": "9dc0cd4c11464a3981440ffab76df130",
       "version_major": 2,
       "version_minor": 0
      },
      "text/plain": [
       "HBox(children=(IntProgress(value=1, bar_style='info', max=1), HTML(value='')))"
      ]
     },
     "metadata": {},
     "output_type": "display_data"
    },
    {
     "ename": "KeyboardInterrupt",
     "evalue": "",
     "output_type": "error",
     "traceback": [
      "\u001b[0;31m---------------------------------------------------------------------------\u001b[0m",
      "\u001b[0;31mKeyboardInterrupt\u001b[0m                         Traceback (most recent call last)",
      "\u001b[0;32m<ipython-input-42-9930cb09b4d1>\u001b[0m in \u001b[0;36m<module>\u001b[0;34m\u001b[0m\n\u001b[1;32m      1\u001b[0m \u001b[0mmodel\u001b[0m \u001b[0;34m=\u001b[0m \u001b[0mtorch\u001b[0m\u001b[0;34m.\u001b[0m\u001b[0mload\u001b[0m\u001b[0;34m(\u001b[0m\u001b[0;34m\"model/cnn.pkl\"\u001b[0m\u001b[0;34m)\u001b[0m\u001b[0;34m\u001b[0m\u001b[0;34m\u001b[0m\u001b[0m\n\u001b[0;32m----> 2\u001b[0;31m \u001b[0mtrain_model\u001b[0m\u001b[0;34m(\u001b[0m\u001b[0mmodel\u001b[0m\u001b[0;34m,\u001b[0m \u001b[0mmodel\u001b[0m\u001b[0;34m.\u001b[0m\u001b[0mparameters\u001b[0m\u001b[0;34m(\u001b[0m\u001b[0;34m)\u001b[0m\u001b[0;34m,\u001b[0m \u001b[0;36m10\u001b[0m\u001b[0;34m,\u001b[0m \u001b[0;36m32\u001b[0m\u001b[0;34m)\u001b[0m\u001b[0;34m\u001b[0m\u001b[0;34m\u001b[0m\u001b[0m\n\u001b[0m",
      "\u001b[0;32m<ipython-input-41-963b118b4e3e>\u001b[0m in \u001b[0;36mtrain_model\u001b[0;34m(model, model_param, epoch_num, batch_size)\u001b[0m\n\u001b[1;32m     23\u001b[0m         \u001b[0;32mwith\u001b[0m \u001b[0mtorch\u001b[0m\u001b[0;34m.\u001b[0m\u001b[0mset_grad_enabled\u001b[0m\u001b[0;34m(\u001b[0m\u001b[0;32mTrue\u001b[0m\u001b[0;34m)\u001b[0m\u001b[0;34m:\u001b[0m\u001b[0;34m\u001b[0m\u001b[0;34m\u001b[0m\u001b[0m\n\u001b[1;32m     24\u001b[0m             \u001b[0;32mfor\u001b[0m \u001b[0mi\u001b[0m\u001b[0;34m,\u001b[0m \u001b[0;34m(\u001b[0m\u001b[0msamples\u001b[0m\u001b[0;34m,\u001b[0m \u001b[0mlabels\u001b[0m\u001b[0;34m)\u001b[0m \u001b[0;32min\u001b[0m \u001b[0mtqdm\u001b[0m\u001b[0;34m(\u001b[0m\u001b[0menumerate\u001b[0m\u001b[0;34m(\u001b[0m\u001b[0mtrain_data\u001b[0m\u001b[0;34m)\u001b[0m\u001b[0;34m)\u001b[0m\u001b[0;34m:\u001b[0m\u001b[0;34m\u001b[0m\u001b[0;34m\u001b[0m\u001b[0m\n\u001b[0;32m---> 25\u001b[0;31m                 \u001b[0minputs\u001b[0m\u001b[0;34m,\u001b[0m \u001b[0mlabels\u001b[0m \u001b[0;34m=\u001b[0m \u001b[0msamples\u001b[0m\u001b[0;34m.\u001b[0m\u001b[0mview\u001b[0m\u001b[0;34m(\u001b[0m\u001b[0;34m(\u001b[0m\u001b[0msamples\u001b[0m\u001b[0;34m.\u001b[0m\u001b[0msize\u001b[0m\u001b[0;34m(\u001b[0m\u001b[0;36m0\u001b[0m\u001b[0;34m)\u001b[0m\u001b[0;34m,\u001b[0m\u001b[0;36m3\u001b[0m\u001b[0;34m,\u001b[0m \u001b[0;36m96\u001b[0m\u001b[0;34m,\u001b[0m \u001b[0;36m96\u001b[0m\u001b[0;34m)\u001b[0m\u001b[0;34m)\u001b[0m\u001b[0;34m.\u001b[0m\u001b[0mfloat\u001b[0m\u001b[0;34m(\u001b[0m\u001b[0;34m)\u001b[0m\u001b[0;34m.\u001b[0m\u001b[0mto\u001b[0m\u001b[0;34m(\u001b[0m\u001b[0mdevice\u001b[0m\u001b[0;34m)\u001b[0m\u001b[0;34m,\u001b[0m \u001b[0mlabels\u001b[0m\u001b[0;34m.\u001b[0m\u001b[0mview\u001b[0m\u001b[0;34m(\u001b[0m\u001b[0mlabels\u001b[0m\u001b[0;34m.\u001b[0m\u001b[0msize\u001b[0m\u001b[0;34m(\u001b[0m\u001b[0;36m0\u001b[0m\u001b[0;34m)\u001b[0m\u001b[0;34m,\u001b[0m \u001b[0;36m1\u001b[0m\u001b[0;34m)\u001b[0m\u001b[0;34m.\u001b[0m\u001b[0mfloat\u001b[0m\u001b[0;34m(\u001b[0m\u001b[0;34m)\u001b[0m\u001b[0;34m.\u001b[0m\u001b[0mto\u001b[0m\u001b[0;34m(\u001b[0m\u001b[0mdevice\u001b[0m\u001b[0;34m)\u001b[0m\u001b[0;34m\u001b[0m\u001b[0;34m\u001b[0m\u001b[0m\n\u001b[0m\u001b[1;32m     26\u001b[0m                 \u001b[0;31m#print(labels)\u001b[0m\u001b[0;34m\u001b[0m\u001b[0;34m\u001b[0m\u001b[0;34m\u001b[0m\u001b[0m\n\u001b[1;32m     27\u001b[0m                 \u001b[0my_pred\u001b[0m \u001b[0;34m=\u001b[0m \u001b[0mmodel\u001b[0m\u001b[0;34m.\u001b[0m\u001b[0mforward\u001b[0m\u001b[0;34m(\u001b[0m\u001b[0minputs\u001b[0m\u001b[0;34m)\u001b[0m\u001b[0;34m\u001b[0m\u001b[0;34m\u001b[0m\u001b[0m\n",
      "\u001b[0;31mKeyboardInterrupt\u001b[0m: "
     ]
    }
   ],
   "source": [
    "model = torch.load(\"model/cnn.pkl\")\n",
    "train_model(model, model.parameters(), 10, 32)"
   ]
  },
  {
   "cell_type": "code",
   "execution_count": 43,
   "metadata": {},
   "outputs": [
    {
     "data": {
      "text/plain": [
       "CNN(\n",
       "  (conv1): Sequential(\n",
       "    (0): Conv2d(3, 64, kernel_size=(3, 3), stride=(1, 1), padding=(1, 1))\n",
       "    (1): BatchNorm2d(64, eps=1e-05, momentum=0.1, affine=True, track_running_stats=True)\n",
       "    (2): ReLU()\n",
       "    (3): MaxPool2d(kernel_size=4, stride=4, padding=0, dilation=1, ceil_mode=False)\n",
       "  )\n",
       "  (conv2): Sequential(\n",
       "    (0): Conv2d(64, 128, kernel_size=(3, 3), stride=(1, 1), padding=(1, 1))\n",
       "    (1): BatchNorm2d(128, eps=1e-05, momentum=0.1, affine=True, track_running_stats=True)\n",
       "    (2): ReLU()\n",
       "    (3): MaxPool2d(kernel_size=4, stride=4, padding=0, dilation=1, ceil_mode=False)\n",
       "  )\n",
       "  (conv3): Sequential(\n",
       "    (0): Conv2d(128, 256, kernel_size=(3, 3), stride=(1, 1), padding=(1, 1))\n",
       "    (1): BatchNorm2d(256, eps=1e-05, momentum=0.1, affine=True, track_running_stats=True)\n",
       "    (2): ReLU()\n",
       "    (3): MaxPool2d(kernel_size=2, stride=2, padding=0, dilation=1, ceil_mode=False)\n",
       "  )\n",
       "  (fc): Sequential(\n",
       "    (0): Linear(in_features=2304, out_features=1024, bias=True)\n",
       "    (1): BatchNorm1d(1024, eps=1e-05, momentum=0.1, affine=True, track_running_stats=True)\n",
       "    (2): ReLU()\n",
       "    (3): Dropout(p=0.5)\n",
       "    (4): Linear(in_features=1024, out_features=1024, bias=True)\n",
       "    (5): BatchNorm1d(1024, eps=1e-05, momentum=0.1, affine=True, track_running_stats=True)\n",
       "    (6): ReLU()\n",
       "    (7): Dropout(p=0.5)\n",
       "    (8): Linear(in_features=1024, out_features=1, bias=True)\n",
       "    (9): Sigmoid()\n",
       "  )\n",
       ")"
      ]
     },
     "execution_count": 43,
     "metadata": {},
     "output_type": "execute_result"
    }
   ],
   "source": [
    "#load model\n",
    "model = torch.load(\"model/cnn.pkl\")\n",
    "model"
   ]
  },
  {
   "cell_type": "code",
   "execution_count": 39,
   "metadata": {},
   "outputs": [],
   "source": [
    "def compute_auc(model, csv_file_name, image_folder, batch_size):\n",
    "    \n",
    "    dataset = HistoDataset(csv_file_name, image_folder)    \n",
    "    data = DataLoader(dataset=dataset, batch_size=batch_size, \n",
    "                            shuffle=False, num_workers=2)\n",
    "    #setup device\n",
    "    device = torch.device(\"cuda\" if torch.cuda.is_available() else \"cpu\") \n",
    "    \n",
    "    #evaluate the performance on validation set        \n",
    "    pred_values = []\n",
    "    true_values = []\n",
    "    #set model in eval mode and shut down grad to save memory\n",
    "    model.eval()\n",
    "    with torch.no_grad():\n",
    "        for j, (samples, labels) in enumerate(data):\n",
    "            inputs = samples.view((samples.size(0),3, 96, 96)).float().to(device)\n",
    "            pred_values += [x[0] for x in model.forward(inputs).cpu().data.numpy()]\n",
    "            true_values += [x for x in labels.numpy()]\n",
    "        #print(pred_values)\n",
    "        #print(true_values)\n",
    "    fpr, tpr, thres = roc_curve(np.array(true_values), np.array(pred_values))\n",
    "    auc_score = auc(fpr, tpr)\n",
    "    print(\"auc: {}\".format(auc_score))\n",
    "    \n",
    "#     plt.plot(fpr, tpr, color='blue')\n",
    "#     plt.xlabel(\"false positive rate\", fontsize=14)\n",
    "#     plt.ylabel(\"true positive rate\", fontsize=14)\n",
    "#     plt.title(\"roc\", fontsize=18)"
   ]
  },
  {
   "cell_type": "code",
   "execution_count": 44,
   "metadata": {},
   "outputs": [
    {
     "name": "stdout",
     "output_type": "stream",
     "text": [
      "auc: 0.9345478704533579\n",
      "auc: 0.9312275002112591\n"
     ]
    }
   ],
   "source": [
    "compute_auc(model, \"data/valid.csv\", \"data/train\", 32)\n",
    "compute_auc(model, \"data/test.csv\", \"data/train\", 32)"
   ]
  }
 ],
 "metadata": {
  "kernelspec": {
   "display_name": "Python 3",
   "language": "python",
   "name": "python3"
  },
  "language_info": {
   "codemirror_mode": {
    "name": "ipython",
    "version": 3
   },
   "file_extension": ".py",
   "mimetype": "text/x-python",
   "name": "python",
   "nbconvert_exporter": "python",
   "pygments_lexer": "ipython3",
   "version": "3.6.8"
  }
 },
 "nbformat": 4,
 "nbformat_minor": 2
}
